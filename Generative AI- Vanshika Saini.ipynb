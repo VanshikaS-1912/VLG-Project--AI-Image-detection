{
 "cells": [
  {
   "cell_type": "markdown",
   "id": "f8724b95",
   "metadata": {},
   "source": [
    "# AI Image Detection"
   ]
  },
  {
   "cell_type": "markdown",
   "id": "f96eddea",
   "metadata": {},
   "source": [
    "## Submitted by- Vanshika Saini (20115163)"
   ]
  },
  {
   "cell_type": "code",
   "execution_count": null,
   "id": "7ced2b5a",
   "metadata": {},
   "outputs": [],
   "source": []
  },
  {
   "cell_type": "code",
   "execution_count": null,
   "id": "8dc249a2",
   "metadata": {},
   "outputs": [],
   "source": []
  },
  {
   "cell_type": "code",
   "execution_count": 4,
   "id": "e9f4c4ed",
   "metadata": {},
   "outputs": [
    {
     "name": "stdout",
     "output_type": "stream",
     "text": [
      "Collecting tensorflow\n",
      "  Downloading tensorflow-2.12.0-cp310-cp310-win_amd64.whl (1.9 kB)\n",
      "Collecting tensorflow-intel==2.12.0\n",
      "  Downloading tensorflow_intel-2.12.0-cp310-cp310-win_amd64.whl (272.8 MB)\n",
      "     -------------------------------------- 272.8/272.8 MB 1.7 MB/s eta 0:00:00\n",
      "Collecting google-pasta>=0.1.1\n",
      "  Downloading google_pasta-0.2.0-py3-none-any.whl (57 kB)\n",
      "     -------------------------------------- 57.5/57.5 kB 761.8 kB/s eta 0:00:00\n",
      "Collecting keras<2.13,>=2.12.0\n",
      "  Downloading keras-2.12.0-py2.py3-none-any.whl (1.7 MB)\n",
      "     ---------------------------------------- 1.7/1.7 MB 2.4 MB/s eta 0:00:00\n",
      "Requirement already satisfied: wrapt<1.15,>=1.11.0 in c:\\users\\vansh\\anaconda3\\lib\\site-packages (from tensorflow-intel==2.12.0->tensorflow) (1.14.1)\n",
      "Collecting astunparse>=1.6.0\n",
      "  Downloading astunparse-1.6.3-py2.py3-none-any.whl (12 kB)\n",
      "Requirement already satisfied: six>=1.12.0 in c:\\users\\vansh\\anaconda3\\lib\\site-packages (from tensorflow-intel==2.12.0->tensorflow) (1.16.0)\n",
      "Collecting termcolor>=1.1.0\n",
      "  Downloading termcolor-2.3.0-py3-none-any.whl (6.9 kB)\n",
      "Requirement already satisfied: h5py>=2.9.0 in c:\\users\\vansh\\anaconda3\\lib\\site-packages (from tensorflow-intel==2.12.0->tensorflow) (3.7.0)\n",
      "Requirement already satisfied: packaging in c:\\users\\vansh\\anaconda3\\lib\\site-packages (from tensorflow-intel==2.12.0->tensorflow) (22.0)\n",
      "Collecting grpcio<2.0,>=1.24.3\n",
      "  Downloading grpcio-1.56.0-cp310-cp310-win_amd64.whl (4.2 MB)\n",
      "     ---------------------------------------- 4.2/4.2 MB 2.5 MB/s eta 0:00:00\n",
      "Collecting tensorflow-estimator<2.13,>=2.12.0\n",
      "  Downloading tensorflow_estimator-2.12.0-py2.py3-none-any.whl (440 kB)\n",
      "     -------------------------------------- 440.7/440.7 kB 3.1 MB/s eta 0:00:00\n",
      "Requirement already satisfied: typing-extensions>=3.6.6 in c:\\users\\vansh\\anaconda3\\lib\\site-packages (from tensorflow-intel==2.12.0->tensorflow) (4.4.0)\n",
      "Collecting tensorboard<2.13,>=2.12\n",
      "  Downloading tensorboard-2.12.3-py3-none-any.whl (5.6 MB)\n",
      "     ---------------------------------------- 5.6/5.6 MB 4.5 MB/s eta 0:00:00\n",
      "Collecting opt-einsum>=2.3.2\n",
      "  Downloading opt_einsum-3.3.0-py3-none-any.whl (65 kB)\n",
      "     -------------------------------------- 65.5/65.5 kB 442.0 kB/s eta 0:00:00\n",
      "Collecting protobuf!=4.21.0,!=4.21.1,!=4.21.2,!=4.21.3,!=4.21.4,!=4.21.5,<5.0.0dev,>=3.20.3\n",
      "  Downloading protobuf-4.23.3-cp310-abi3-win_amd64.whl (422 kB)\n",
      "     -------------------------------------- 422.5/422.5 kB 2.6 MB/s eta 0:00:00\n",
      "Requirement already satisfied: numpy<1.24,>=1.22 in c:\\users\\vansh\\anaconda3\\lib\\site-packages (from tensorflow-intel==2.12.0->tensorflow) (1.23.5)\n",
      "Collecting gast<=0.4.0,>=0.2.1\n",
      "  Downloading gast-0.4.0-py3-none-any.whl (9.8 kB)\n",
      "Collecting tensorflow-io-gcs-filesystem>=0.23.1\n",
      "  Downloading tensorflow_io_gcs_filesystem-0.31.0-cp310-cp310-win_amd64.whl (1.5 MB)\n",
      "     ---------------------------------------- 1.5/1.5 MB 3.6 MB/s eta 0:00:00\n",
      "Collecting libclang>=13.0.0\n",
      "  Downloading libclang-16.0.0-py2.py3-none-win_amd64.whl (24.4 MB)\n",
      "     ---------------------------------------- 24.4/24.4 MB 2.8 MB/s eta 0:00:00\n",
      "Requirement already satisfied: setuptools in c:\\users\\vansh\\anaconda3\\lib\\site-packages (from tensorflow-intel==2.12.0->tensorflow) (65.6.3)\n",
      "Collecting jax>=0.3.15\n",
      "  Downloading jax-0.4.13.tar.gz (1.3 MB)\n",
      "     ---------------------------------------- 1.3/1.3 MB 2.3 MB/s eta 0:00:00\n",
      "  Installing build dependencies: started\n",
      "  Installing build dependencies: finished with status 'done'\n",
      "  Getting requirements to build wheel: started\n",
      "  Getting requirements to build wheel: finished with status 'done'\n",
      "  Preparing metadata (pyproject.toml): started\n",
      "  Preparing metadata (pyproject.toml): finished with status 'done'\n",
      "Collecting flatbuffers>=2.0\n",
      "  Downloading flatbuffers-23.5.26-py2.py3-none-any.whl (26 kB)\n",
      "Collecting absl-py>=1.0.0\n",
      "  Downloading absl_py-1.4.0-py3-none-any.whl (126 kB)\n",
      "     -------------------------------------- 126.5/126.5 kB 2.5 MB/s eta 0:00:00\n",
      "Requirement already satisfied: wheel<1.0,>=0.23.0 in c:\\users\\vansh\\anaconda3\\lib\\site-packages (from astunparse>=1.6.0->tensorflow-intel==2.12.0->tensorflow) (0.40.0)\n",
      "Collecting ml-dtypes>=0.1.0\n",
      "  Downloading ml_dtypes-0.2.0-cp310-cp310-win_amd64.whl (938 kB)\n",
      "     -------------------------------------- 938.6/938.6 kB 3.3 MB/s eta 0:00:00\n",
      "Requirement already satisfied: scipy>=1.7 in c:\\users\\vansh\\anaconda3\\lib\\site-packages (from jax>=0.3.15->tensorflow-intel==2.12.0->tensorflow) (1.10.0)\n",
      "Requirement already satisfied: werkzeug>=1.0.1 in c:\\users\\vansh\\anaconda3\\lib\\site-packages (from tensorboard<2.13,>=2.12->tensorflow-intel==2.12.0->tensorflow) (2.2.2)\n",
      "Collecting tensorboard-data-server<0.8.0,>=0.7.0\n",
      "  Downloading tensorboard_data_server-0.7.1-py3-none-any.whl (2.4 kB)\n",
      "Requirement already satisfied: markdown>=2.6.8 in c:\\users\\vansh\\anaconda3\\lib\\site-packages (from tensorboard<2.13,>=2.12->tensorflow-intel==2.12.0->tensorflow) (3.4.1)\n",
      "Requirement already satisfied: requests<3,>=2.21.0 in c:\\users\\vansh\\anaconda3\\lib\\site-packages (from tensorboard<2.13,>=2.12->tensorflow-intel==2.12.0->tensorflow) (2.28.1)\n",
      "Collecting google-auth-oauthlib<1.1,>=0.5\n",
      "  Downloading google_auth_oauthlib-1.0.0-py2.py3-none-any.whl (18 kB)\n",
      "Collecting google-auth<3,>=1.6.3\n",
      "  Downloading google_auth-2.21.0-py2.py3-none-any.whl (182 kB)\n",
      "     -------------------------------------- 182.1/182.1 kB 1.8 MB/s eta 0:00:00\n",
      "Requirement already satisfied: urllib3<2.0 in c:\\users\\vansh\\anaconda3\\lib\\site-packages (from google-auth<3,>=1.6.3->tensorboard<2.13,>=2.12->tensorflow-intel==2.12.0->tensorflow) (1.26.14)\n",
      "Requirement already satisfied: pyasn1-modules>=0.2.1 in c:\\users\\vansh\\anaconda3\\lib\\site-packages (from google-auth<3,>=1.6.3->tensorboard<2.13,>=2.12->tensorflow-intel==2.12.0->tensorflow) (0.2.8)\n",
      "Collecting rsa<5,>=3.1.4\n",
      "  Downloading rsa-4.9-py3-none-any.whl (34 kB)\n",
      "Collecting cachetools<6.0,>=2.0.0\n",
      "  Downloading cachetools-5.3.1-py3-none-any.whl (9.3 kB)\n",
      "Collecting requests-oauthlib>=0.7.0\n",
      "  Downloading requests_oauthlib-1.3.1-py2.py3-none-any.whl (23 kB)\n",
      "Requirement already satisfied: idna<4,>=2.5 in c:\\users\\vansh\\anaconda3\\lib\\site-packages (from requests<3,>=2.21.0->tensorboard<2.13,>=2.12->tensorflow-intel==2.12.0->tensorflow) (3.4)\n",
      "Requirement already satisfied: charset-normalizer<3,>=2 in c:\\users\\vansh\\anaconda3\\lib\\site-packages (from requests<3,>=2.21.0->tensorboard<2.13,>=2.12->tensorflow-intel==2.12.0->tensorflow) (2.0.4)\n",
      "Requirement already satisfied: certifi>=2017.4.17 in c:\\users\\vansh\\anaconda3\\lib\\site-packages (from requests<3,>=2.21.0->tensorboard<2.13,>=2.12->tensorflow-intel==2.12.0->tensorflow) (2023.5.7)\n",
      "Requirement already satisfied: MarkupSafe>=2.1.1 in c:\\users\\vansh\\anaconda3\\lib\\site-packages (from werkzeug>=1.0.1->tensorboard<2.13,>=2.12->tensorflow-intel==2.12.0->tensorflow) (2.1.1)\n",
      "Requirement already satisfied: pyasn1<0.5.0,>=0.4.6 in c:\\users\\vansh\\anaconda3\\lib\\site-packages (from pyasn1-modules>=0.2.1->google-auth<3,>=1.6.3->tensorboard<2.13,>=2.12->tensorflow-intel==2.12.0->tensorflow) (0.4.8)\n",
      "Collecting oauthlib>=3.0.0\n",
      "  Downloading oauthlib-3.2.2-py3-none-any.whl (151 kB)\n",
      "     -------------------------------------- 151.7/151.7 kB 2.2 MB/s eta 0:00:00\n",
      "Building wheels for collected packages: jax\n",
      "  Building wheel for jax (pyproject.toml): started\n",
      "  Building wheel for jax (pyproject.toml): finished with status 'done'\n",
      "  Created wheel for jax: filename=jax-0.4.13-py3-none-any.whl size=1518835 sha256=1e63d18493526c2b29c174669a3297d77ecff3ec26ba8eb438ecca3ddc680ee2\n",
      "  Stored in directory: c:\\users\\vansh\\appdata\\local\\pip\\cache\\wheels\\4c\\a3\\e7\\ea156aff3754a8f833f1b0c9587dec0bcfc9c551c439c9dcc7\n",
      "Successfully built jax\n",
      "Installing collected packages: libclang, flatbuffers, termcolor, tensorflow-io-gcs-filesystem, tensorflow-estimator, tensorboard-data-server, rsa, protobuf, opt-einsum, oauthlib, ml-dtypes, keras, grpcio, google-pasta, gast, cachetools, astunparse, absl-py, requests-oauthlib, jax, google-auth, google-auth-oauthlib, tensorboard, tensorflow-intel, tensorflow\n",
      "Successfully installed absl-py-1.4.0 astunparse-1.6.3 cachetools-5.3.1 flatbuffers-23.5.26 gast-0.4.0 google-auth-2.21.0 google-auth-oauthlib-1.0.0 google-pasta-0.2.0 grpcio-1.56.0 jax-0.4.13 keras-2.12.0 libclang-16.0.0 ml-dtypes-0.2.0 oauthlib-3.2.2 opt-einsum-3.3.0 protobuf-4.23.3 requests-oauthlib-1.3.1 rsa-4.9 tensorboard-2.12.3 tensorboard-data-server-0.7.1 tensorflow-2.12.0 tensorflow-estimator-2.12.0 tensorflow-intel-2.12.0 tensorflow-io-gcs-filesystem-0.31.0 termcolor-2.3.0\n"
     ]
    }
   ],
   "source": [
    "!pip install tensorflow"
   ]
  },
  {
   "cell_type": "markdown",
   "id": "1c7f5675",
   "metadata": {},
   "source": [
    "# Importing Libraries"
   ]
  },
  {
   "cell_type": "code",
   "execution_count": 12,
   "id": "e5f55aa0",
   "metadata": {},
   "outputs": [],
   "source": [
    "import numpy as np\n",
    "import pandas as pd\n",
    "import tensorflow as tf\n",
    "from sklearn.model_selection import train_test_split\n",
    "from keras.layers import Dense, Activation, Dropout, BatchNormalization, Flatten\n",
    "from tensorflow.keras.layers import Conv1D, MaxPooling1D, Add, Input\n",
    "from tensorflow.keras.models import Model\n",
    "from keras.layers import Reshape"
   ]
  },
  {
   "cell_type": "code",
   "execution_count": 13,
   "id": "0c786876",
   "metadata": {},
   "outputs": [],
   "source": [
    "#reading csv files\n",
    "df = pd.read_csv('train.csv')\n",
    "df2 = pd.read_csv('test.csv')"
   ]
  },
  {
   "cell_type": "code",
   "execution_count": 14,
   "id": "8ea526f6",
   "metadata": {},
   "outputs": [],
   "source": [
    "x = df.drop('labels',axis = 1)\n",
    "y = df['labels']\n",
    "# x_train = df.drop('labels', axis=1)\n",
    "# y_train = df['labels']\n",
    "# x_id = df2['id']\n",
    "# x_test = df2.drop('id', axis=1)"
   ]
  },
  {
   "cell_type": "code",
   "execution_count": 15,
   "id": "50fa6eda",
   "metadata": {},
   "outputs": [],
   "source": [
    "x_train, x_test, y_train, y_test = train_test_split(x, y, test_size=0.2, random_state=42)"
   ]
  },
  {
   "cell_type": "markdown",
   "id": "9669ceb2",
   "metadata": {},
   "source": [
    "# Model"
   ]
  },
  {
   "cell_type": "code",
   "execution_count": 16,
   "id": "9e5fa7e2",
   "metadata": {},
   "outputs": [],
   "source": [
    "#1200*1-image ----csv file -20*20*3\n",
    "input_shape = (1200, 1)\n",
    "\n",
    "# outputs- 0,1\n",
    "num_classes = 2\n",
    "\n",
    "cnn_inputs = Input(shape=input_shape)\n",
    "\n",
    "#first layer of CNN\n",
    "x = Conv1D(filters=64, kernel_size=3, activation='relu')(cnn_inputs)\n",
    "x = MaxPooling1D(pool_size=2)(x)\n",
    "x = Dense(units=2400, activation='relu')(x)\n",
    "x = Dense(units=1200, activation='relu')(x)\n",
    "x = Dense(units=600, activation='relu')(x)\n",
    "x = Dense(units=300, activation='relu')(x)\n",
    "x = Flatten()(x)\n",
    "cnn_outputs = Dense(units=300, activation='relu')(x)\n",
    "\n",
    "\n",
    "def residual_block(inputs, filters, kernel_size):\n",
    "    x = Conv1D(filters=filters, kernel_size=kernel_size, activation='relu', padding='same')(inputs)\n",
    "    x = Conv1D(filters=filters, kernel_size=kernel_size, activation='relu', padding='same')(x)\n",
    "    x = Add()([x, inputs])\n",
    "    x = MaxPooling1D(pool_size=2)(x)\n",
    "    return x\n",
    "\n",
    "residual_inputs = Reshape((-1, 1))(cnn_outputs)\n",
    "x = residual_block(residual_inputs, filters=50, kernel_size=4)\n",
    "x = Conv1D(filters=50, kernel_size=4, activation='relu', padding='same')(x)\n",
    "x = MaxPooling1D(pool_size=3)(x)\n",
    "x = residual_block(x, filters=50, kernel_size=4)\n",
    "x = residual_block(x, filters=50, kernel_size=4)\n",
    "x = residual_block(x, filters=50, kernel_size=4)\n",
    "x = Flatten()(x)\n",
    "x = Dense(units=100, activation='relu')(x)\n",
    "x = Dense(units=10, activation='relu')(x)\n",
    "\n",
    "#using sigmoid(for binary output)\n",
    "outputs = Dense(units=1, activation='sigmoid')(x)\n"
   ]
  },
  {
   "cell_type": "markdown",
   "id": "08cb1030",
   "metadata": {},
   "source": [
    "# Trainig the model"
   ]
  },
  {
   "cell_type": "code",
   "execution_count": 17,
   "id": "d6171e95",
   "metadata": {},
   "outputs": [
    {
     "name": "stdout",
     "output_type": "stream",
     "text": [
      "Epoch 1/25\n",
      "132/132 [==============================] - 545s 4s/step - loss: 0.4627 - accuracy: 0.7993\n",
      "Epoch 2/25\n",
      "132/132 [==============================] - 528s 4s/step - loss: 0.2932 - accuracy: 0.8676\n",
      "Epoch 3/25\n",
      "132/132 [==============================] - 446s 3s/step - loss: 0.2344 - accuracy: 0.8955\n",
      "Epoch 4/25\n",
      "132/132 [==============================] - 566s 4s/step - loss: 0.1860 - accuracy: 0.9188\n",
      "Epoch 5/25\n",
      "132/132 [==============================] - 473s 4s/step - loss: 0.1346 - accuracy: 0.9462\n",
      "Epoch 6/25\n",
      "132/132 [==============================] - 411s 3s/step - loss: 0.1044 - accuracy: 0.9607\n",
      "Epoch 7/25\n",
      "132/132 [==============================] - 413s 3s/step - loss: 0.0721 - accuracy: 0.9731\n",
      "Epoch 8/25\n",
      "132/132 [==============================] - 408s 3s/step - loss: 0.0568 - accuracy: 0.9786\n",
      "Epoch 9/25\n",
      "132/132 [==============================] - 407s 3s/step - loss: 0.0388 - accuracy: 0.9845\n",
      "Epoch 10/25\n",
      "132/132 [==============================] - 404s 3s/step - loss: 0.0318 - accuracy: 0.9881\n",
      "Epoch 11/25\n",
      "132/132 [==============================] - 403s 3s/step - loss: 0.0308 - accuracy: 0.9905\n",
      "Epoch 12/25\n",
      "132/132 [==============================] - 407s 3s/step - loss: 0.0249 - accuracy: 0.9924\n",
      "Epoch 13/25\n",
      "132/132 [==============================] - 487s 4s/step - loss: 0.0281 - accuracy: 0.9905\n",
      "Epoch 14/25\n",
      "132/132 [==============================] - 468s 4s/step - loss: 0.0259 - accuracy: 0.9905\n",
      "Epoch 15/25\n",
      "132/132 [==============================] - 474s 4s/step - loss: 0.0235 - accuracy: 0.9905\n",
      "Epoch 16/25\n",
      "132/132 [==============================] - 473s 4s/step - loss: 0.0201 - accuracy: 0.9938\n",
      "Epoch 17/25\n",
      "132/132 [==============================] - 476s 4s/step - loss: 0.0043 - accuracy: 0.9981\n",
      "Epoch 18/25\n",
      "132/132 [==============================] - 477s 4s/step - loss: 0.0065 - accuracy: 0.9979\n",
      "Epoch 19/25\n",
      "132/132 [==============================] - 478s 4s/step - loss: 0.0653 - accuracy: 0.9779\n",
      "Epoch 20/25\n",
      "132/132 [==============================] - 502s 4s/step - loss: 0.0152 - accuracy: 0.9960\n",
      "Epoch 21/25\n",
      "132/132 [==============================] - 489s 4s/step - loss: 0.0054 - accuracy: 0.9986\n",
      "Epoch 22/25\n",
      "132/132 [==============================] - 483s 4s/step - loss: 0.0032 - accuracy: 0.9990\n",
      "Epoch 23/25\n",
      "132/132 [==============================] - 480s 4s/step - loss: 0.0073 - accuracy: 0.9979\n",
      "Epoch 24/25\n",
      "132/132 [==============================] - 562s 4s/step - loss: 0.0310 - accuracy: 0.9902\n",
      "Epoch 25/25\n",
      "132/132 [==============================] - 494s 4s/step - loss: 0.0219 - accuracy: 0.9936\n"
     ]
    },
    {
     "data": {
      "text/plain": [
       "<keras.callbacks.History at 0x1dec1d3a080>"
      ]
     },
     "execution_count": 17,
     "metadata": {},
     "output_type": "execute_result"
    }
   ],
   "source": [
    "model = Model(inputs=cnn_inputs, outputs=outputs)\n",
    "#loss calculation optimizer-adam\n",
    "model.compile(optimizer='adam', loss='binary_crossentropy', metrics=['accuracy'])\n",
    "#training\n",
    "model.fit(x_train, y_train, batch_size=32, epochs=25)"
   ]
  },
  {
   "cell_type": "code",
   "execution_count": 19,
   "id": "f05a7c97",
   "metadata": {},
   "outputs": [
    {
     "ename": "SyntaxError",
     "evalue": "invalid non-printable character U+00A0 (576734582.py, line 4)",
     "output_type": "error",
     "traceback": [
      "\u001b[1;36m  Cell \u001b[1;32mIn[19], line 4\u001b[1;36m\u001b[0m\n\u001b[1;33m    print(\"Accuracy:\", accuracy)\u001b[0m\n\u001b[1;37m                      ^\u001b[0m\n\u001b[1;31mSyntaxError\u001b[0m\u001b[1;31m:\u001b[0m invalid non-printable character U+00A0\n"
     ]
    }
   ],
   "source": [
    "# predictions = model.predict(x_test) #predictions-array of outputs\n",
    "# predicted_labels = (predictions > 0.5).astype(int) #converting outputs to binary (using 0.5 scale)\n",
    "# accuracy = accuracy_score(target, predicted_labels)\n",
    "# print(\"Accuracy:\", accuracy)"
   ]
  },
  {
   "cell_type": "markdown",
   "id": "3275b43e",
   "metadata": {},
   "source": [
    "# Testing"
   ]
  },
  {
   "cell_type": "code",
   "execution_count": 25,
   "id": "030f086a",
   "metadata": {},
   "outputs": [
    {
     "name": "stdout",
     "output_type": "stream",
     "text": [
      "33/33 [==============================] - 38s 1s/step\n",
      "Accuracy: 0.8580952380952381\n"
     ]
    }
   ],
   "source": [
    "from sklearn.metrics import accuracy_score\n",
    "\n",
    "predictions = model.predict(x_test)  # predictions-array of outputs\n",
    "predicted_labels = (predictions > 0.5).astype(int)  # converting outputs to binary (using 0.5 scale)\n",
    "accuracy = accuracy_score(y_test, predicted_labels)\n",
    "print(\"Accuracy:\", accuracy)\n",
    "\n"
   ]
  },
  {
   "cell_type": "code",
   "execution_count": null,
   "id": "97acaac4",
   "metadata": {},
   "outputs": [],
   "source": [
    "#for complete dataset\n",
    "result_df = pd.DataFrame({'id': x_id, 'labels': predicted_labels.flatten()})\n",
    "result_df.to_csv('predictions.csv', index=False)\n"
   ]
  },
  {
   "cell_type": "code",
   "execution_count": null,
   "id": "7d2edf5c",
   "metadata": {},
   "outputs": [],
   "source": []
  },
  {
   "cell_type": "code",
   "execution_count": null,
   "id": "d4400944",
   "metadata": {},
   "outputs": [],
   "source": []
  },
  {
   "cell_type": "code",
   "execution_count": null,
   "id": "ed236d9b",
   "metadata": {},
   "outputs": [],
   "source": []
  }
 ],
 "metadata": {
  "kernelspec": {
   "display_name": "Python 3 (ipykernel)",
   "language": "python",
   "name": "python3"
  },
  "language_info": {
   "codemirror_mode": {
    "name": "ipython",
    "version": 3
   },
   "file_extension": ".py",
   "mimetype": "text/x-python",
   "name": "python",
   "nbconvert_exporter": "python",
   "pygments_lexer": "ipython3",
   "version": "3.10.9"
  }
 },
 "nbformat": 4,
 "nbformat_minor": 5
}
